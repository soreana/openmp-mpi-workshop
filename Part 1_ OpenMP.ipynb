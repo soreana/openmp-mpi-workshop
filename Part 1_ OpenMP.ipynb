{
 "cells": [
  {
   "cell_type": "markdown",
   "id": "75097a27-c115-41c5-be7f-bd565445192c",
   "metadata": {},
   "source": [
    "### OpenMP and MPI Interactive Tutorial\n",
    "\n",
    "## Part 1: OpenMP\n",
    "\n",
    "### 2. Basics of OpenMP\n",
    "\n",
    "#### What is OpenMP?\n",
    "OpenMP is a parallel programming model designed for shared-memory systems. It allows programmers to parallelize code using simple compiler directives while maintaining ease of development. OpenMP is supported by most modern C, C++, and Fortran compilers.\n",
    "\n",
    "#### OpenMP Execution Model (Fork-Join)\n",
    "- The OpenMP execution model follows a **fork-join** pattern:\n",
    "  1. The program starts as a single **master thread**.\n",
    "  2. When a parallel region is encountered, the master thread **forks** multiple worker threads.\n",
    "  3. The threads execute concurrently.\n",
    "  4. At the end of the parallel region, the worker threads **join** back into the master thread."
   ]
  },
  {
   "cell_type": "markdown",
   "id": "81e3e624-90e2-48cd-9ccb-6b591fd75e81",
   "metadata": {},
   "source": [
    "#### Writing a Simple \"Hello, World!\" Program in OpenMP\n",
    "Let's write a basic OpenMP program to print messages from multiple threads:\n",
    "\n",
    "```c\n",
    "#include <omp.h>\n",
    "#include <stdio.h>\n",
    "\n",
    "int main() {\n",
    "    #pragma omp parallel\n",
    "    {\n",
    "        int id = omp_get_thread_num();\n",
    "        printf(\"Hello from thread %d\\n\", id);\n",
    "    }\n",
    "    return 0;\n",
    "}\n",
    "```\n",
    "\n",
    "#### Explanation:\n",
    "- `#pragma omp parallel` creates a parallel region where multiple threads execute the enclosed block.\n",
    "- `omp_get_thread_num()` returns the thread's unique identifier.\n",
    "\n",
    "**Note**: By executing the following cell a hello_world.c file will be created."
   ]
  },
  {
   "cell_type": "code",
   "execution_count": 1,
   "id": "405fc16e-7a17-464b-890b-ac8d63b05741",
   "metadata": {},
   "outputs": [
    {
     "name": "stdout",
     "output_type": "stream",
     "text": [
      "Writing hello_world.c\n"
     ]
    }
   ],
   "source": [
    "%%file hello_world.c\n",
    "#include <omp.h>\n",
    "#include <stdio.h>\n",
    "\n",
    "int main() {\n",
    "    #pragma omp parallel\n",
    "    {\n",
    "        int id = omp_get_thread_num();\n",
    "        printf(\"Hello from thread %d\\n\", id);\n",
    "    }\n",
    "    return 0;\n",
    "}"
   ]
  },
  {
   "cell_type": "markdown",
   "id": "d7a4d62a-17c5-4fa2-92e3-6654d5ece827",
   "metadata": {},
   "source": [
    "#### Running the Code\n",
    "To compile and run an OpenMP program you can use the following commands in terminal. You can achieve the same result by running the following cell in the notebook:\n",
    "```bash\n",
    "$ gcc -fopenmp hello_world.c -o hello_world\n",
    "$ ./hello_world\n",
    "```"
   ]
  },
  {
   "cell_type": "code",
   "execution_count": 2,
   "id": "81f1d8fd-9ece-4b3b-a8c2-2b55f4a5ac42",
   "metadata": {},
   "outputs": [
    {
     "name": "stdout",
     "output_type": "stream",
     "text": [
      "Hello from thread 0\n",
      "Hello from thread 1\n"
     ]
    }
   ],
   "source": [
    "!gcc -fopenmp hello_world.c -o hello_world\n",
    "!./hello_world"
   ]
  },
  {
   "cell_type": "markdown",
   "id": "36c884da-512a-4f2b-84c2-83458c4ca1c7",
   "metadata": {},
   "source": [
    "#### Exercise:\n",
    "Modify the Hello World program to print the **total number of threads** using `omp_get_num_threads()`."
   ]
  },
  {
   "cell_type": "code",
   "execution_count": 1,
   "id": "89f79bd4-3939-4433-bac3-36277573abb4",
   "metadata": {},
   "outputs": [
    {
     "name": "stdout",
     "output_type": "stream",
     "text": [
      "Writing thread_count.c\n"
     ]
    }
   ],
   "source": [
    "%%file thread_count.c\n",
    "#include <omp.h>\n",
    "#include <stdio.h>\n",
    "\n",
    "int main() {\n",
    "    #pragma omp parallel\n",
    "    {\n",
    "        int id = omp_get_thread_num();\n",
    "        printf(\"Hello from thread %d\\n\", id);\n",
    "    }\n",
    "    return 0;\n",
    "}"
   ]
  },
  {
   "cell_type": "code",
   "execution_count": 2,
   "id": "ecd51ffb-3408-4396-ae18-1477a7207a89",
   "metadata": {},
   "outputs": [
    {
     "name": "stdout",
     "output_type": "stream",
     "text": [
      "Hello from thread 0\n",
      "Hello from thread 2\n",
      "Hello from thread 1\n",
      "Hello from thread 3\n"
     ]
    }
   ],
   "source": [
    "!gcc -fopenmp thread_count.c -o thread_count\n",
    "!./thread_count"
   ]
  },
  {
   "cell_type": "markdown",
   "id": "6db4ebe7-f812-49db-8ce0-db800c2c718f",
   "metadata": {},
   "source": [
    "### 3. OpenMP Directives and Constructs\n",
    "\n",
    "OpenMP provides various directives to control parallel execution efficiently. These directives are used to manage threads, workload distribution, synchronization, and data-sharing attributes.\n",
    "\n",
    "#### 3.1 Parallel Directive\n",
    "The `#pragma omp parallel` directive is the fundamental construct in OpenMP, which creates a parallel region where multiple threads execute the enclosed code block.\n",
    "\n",
    "Example:\n",
    "```c\n",
    "#pragma omp parallel\n",
    "{\n",
    "    int id = omp_get_thread_num();\n",
    "    printf(\"Executing in parallel%d\\n\", id);\n",
    "}\n",
    "```\n",
    "\n",
    "**Note**: The output of the following code can vary depending on which thread is executed first."
   ]
  },
  {
   "cell_type": "code",
   "execution_count": 3,
   "id": "aa7396c2-eb57-4770-91e9-c4a3084781ab",
   "metadata": {},
   "outputs": [
    {
     "name": "stdout",
     "output_type": "stream",
     "text": [
      "Writing parallel_directive.c\n"
     ]
    }
   ],
   "source": [
    "%%file parallel_directive.c\n",
    "#include <omp.h>\n",
    "#include <stdio.h>\n",
    "\n",
    "int main() {\n",
    "    #pragma omp parallel\n",
    "    {\n",
    "        int id = omp_get_thread_num();\n",
    "        printf(\"Executing in parallel%d\\n\", id);\n",
    "    }\n",
    "    return 0;\n",
    "}"
   ]
  },
  {
   "cell_type": "code",
   "execution_count": 4,
   "id": "2ff19eb1-5d4f-476a-96f3-5500c5b96115",
   "metadata": {},
   "outputs": [
    {
     "name": "stdout",
     "output_type": "stream",
     "text": [
      "Executing in parallel1\n",
      "Executing in parallel0\n",
      "Executing in parallel3\n",
      "Executing in parallel2\n"
     ]
    }
   ],
   "source": [
    "!gcc -fopenmp parallel_directive.c -o parallel_directive\n",
    "!./parallel_directive"
   ]
  },
  {
   "cell_type": "markdown",
   "id": "2896c8e9-a63e-411d-aeb2-3ca032159d65",
   "metadata": {},
   "source": [
    "#### 3.2 Work Sharing Constructs\n",
    "OpenMP provides multiple constructs to divide tasks among threads:\n",
    "- `#pragma omp for`: Distributes loop iterations across threads.\n",
    "- `#pragma omp sections`: Assigns independent code blocks to different threads.\n",
    "- `#pragma omp single`: Ensures that a block of code is executed by only one thread.\n",
    "- `#pragma omp master`: Ensures execution only by the master thread.\n",
    "\n",
    "Example:\n",
    "```c\n",
    "#pragma omp parallel\n",
    "{\n",
    "    #pragma omp for\n",
    "    for (int i = 0; i < 10; i++) {\n",
    "        printf(\"Iteration %d handled by thread %d\\n\", i, omp_get_thread_num());\n",
    "    }\n",
    "}\n",
    "```"
   ]
  },
  {
   "cell_type": "code",
   "execution_count": 9,
   "id": "ca523f41-5aaa-4971-ad7a-7c472486ee85",
   "metadata": {},
   "outputs": [
    {
     "name": "stdout",
     "output_type": "stream",
     "text": [
      "Writing work_sharing.c\n"
     ]
    }
   ],
   "source": [
    "%%file work_sharing.c\n",
    "#include <omp.h>\n",
    "#include <stdio.h>\n",
    "\n",
    "int main() {\n",
    "    #pragma omp parallel\n",
    "    {\n",
    "        #pragma omp for\n",
    "        for (int i = 0; i < 10; i++) {\n",
    "            printf(\"Iteration %d handled by thread %d\\n\", i, omp_get_thread_num());\n",
    "        }\n",
    "    }\n",
    "}"
   ]
  },
  {
   "cell_type": "code",
   "execution_count": 10,
   "id": "348aa611-e10e-447d-85f6-0415c0f00126",
   "metadata": {},
   "outputs": [
    {
     "name": "stdout",
     "output_type": "stream",
     "text": [
      "Iteration 0 handled by thread 0\n",
      "Iteration 1 handled by thread 0\n",
      "Iteration 2 handled by thread 0\n",
      "Iteration 5 handled by thread 1\n",
      "Iteration 6 handled by thread 1\n",
      "Iteration 7 handled by thread 1\n",
      "Iteration 8 handled by thread 1\n",
      "Iteration 9 handled by thread 1\n",
      "Iteration 3 handled by thread 0\n",
      "Iteration 4 handled by thread 0\n"
     ]
    }
   ],
   "source": [
    "!gcc -fopenmp work_sharing.c -o work_sharing\n",
    "!./work_sharing"
   ]
  },
  {
   "cell_type": "markdown",
   "id": "d26a7dfa-b58a-418d-8cae-416aec422195",
   "metadata": {},
   "source": [
    "#### 3.3 Synchronization Constructs\n",
    "To prevent race conditions and ensure safe access to shared resources, OpenMP provides synchronization directives:\n",
    "- `#pragma omp critical`: Ensures that a section of code is executed by only one thread at a time.\n",
    "- `#pragma omp atomic`: Ensures that a specific operation is performed atomically.\n",
    "- `#pragma omp barrier`: Synchronizes all threads at a specific point.\n",
    "\n",
    "Example:\n",
    "```c\n",
    "int sum = 0;\n",
    "#pragma omp parallel for\n",
    "for (int i = 0; i < 10; i++) {\n",
    "    #pragma omp critical\n",
    "    {\n",
    "        sum += i;\n",
    "    }\n",
    "}\n",
    "```"
   ]
  },
  {
   "cell_type": "code",
   "execution_count": 11,
   "id": "0a2c1119-9a4d-412c-aa91-2e47b59bd1f1",
   "metadata": {},
   "outputs": [
    {
     "name": "stdout",
     "output_type": "stream",
     "text": [
      "Writing synchronization_constructs.c\n"
     ]
    }
   ],
   "source": [
    "%%file synchronization_constructs.c\n",
    "#include <omp.h>\n",
    "#include <stdio.h>\n",
    "\n",
    "int main() {\n",
    "    int sum = 0;\n",
    "    #pragma omp parallel for\n",
    "    for (int i = 0; i < 10; i++) {\n",
    "        #pragma omp critical\n",
    "        {\n",
    "            sum += i;\n",
    "            printf(\"Iteration %d handled by thread %d, sum is: %d\\n\", i, omp_get_thread_num(), sum);\n",
    "        }\n",
    "    }\n",
    "}"
   ]
  },
  {
   "cell_type": "code",
   "execution_count": 12,
   "id": "ced4a877-e220-44b8-bc12-010f5a0abc12",
   "metadata": {},
   "outputs": [
    {
     "name": "stdout",
     "output_type": "stream",
     "text": [
      "Iteration 0 handled by thread 0, sum is: 0\n",
      "Iteration 1 handled by thread 0, sum is: 1\n",
      "Iteration 2 handled by thread 0, sum is: 3\n",
      "Iteration 3 handled by thread 0, sum is: 6\n",
      "Iteration 4 handled by thread 0, sum is: 10\n",
      "Iteration 5 handled by thread 1, sum is: 15\n",
      "Iteration 6 handled by thread 1, sum is: 21\n",
      "Iteration 7 handled by thread 1, sum is: 28\n",
      "Iteration 8 handled by thread 1, sum is: 36\n",
      "Iteration 9 handled by thread 1, sum is: 45\n"
     ]
    }
   ],
   "source": [
    "!gcc -fopenmp synchronization_constructs.c -o synchronization_constructs\n",
    "!./synchronization_constructs"
   ]
  },
  {
   "cell_type": "markdown",
   "id": "1edfc6bd-9af2-4734-a837-d532aa34af90",
   "metadata": {},
   "source": [
    "#### 3.4 Data Sharing Attributes\n",
    "OpenMP allows controlling variable scope across threads:\n",
    "- `shared`: Variables are accessible by all threads.\n",
    "- `private`: Each thread has its own copy of the variable.\n",
    "- `firstprivate`: Each thread gets a private copy initialized with the original value.\n",
    "- `lastprivate`: Updates the original variable with the last thread's value.\n",
    "\n",
    "Example:\n",
    "```c\n",
    "int x = 10;\n",
    "#pragma omp parallel private(x)\n",
    "{\n",
    "    x = omp_get_thread_num();\n",
    "    printf(\"Thread %d, x = %d\\n\", omp_get_thread_num(), x);\n",
    "}\n",
    "```"
   ]
  },
  {
   "cell_type": "code",
   "execution_count": 13,
   "id": "7abdb02e-8958-4e3c-bd2a-0bd16fb2e0a4",
   "metadata": {},
   "outputs": [
    {
     "name": "stdout",
     "output_type": "stream",
     "text": [
      "Writing sharing_attributes.c\n"
     ]
    }
   ],
   "source": [
    "%%file sharing_attributes.c\n",
    "#include <omp.h>\n",
    "#include <stdio.h>\n",
    "\n",
    "int main() {\n",
    "    int x = 10;\n",
    "    #pragma omp parallel private(x)\n",
    "    {\n",
    "        x = omp_get_thread_num();\n",
    "        printf(\"Thread %d, x = %d\\n\", omp_get_thread_num(), x);\n",
    "    }   \n",
    "}"
   ]
  },
  {
   "cell_type": "code",
   "execution_count": 14,
   "id": "6222146d-30a9-4fda-bad2-bc9ba5c6b0ce",
   "metadata": {},
   "outputs": [
    {
     "name": "stdout",
     "output_type": "stream",
     "text": [
      "Thread 0, x = 0\n",
      "Thread 1, x = 1\n"
     ]
    }
   ],
   "source": [
    "!gcc -fopenmp sharing_attributes.c -o sharing_attributes\n",
    "!./sharing_attributes"
   ]
  },
  {
   "cell_type": "markdown",
   "id": "d31e6f9a-cd00-4763-99b6-8059ac1bc5a7",
   "metadata": {},
   "source": [
    "#### 3.5 Reduction Directive\n",
    "The `reduction` clause combines results from multiple threads safely.\n",
    "Example:\n",
    "```c\n",
    "int sum = 0;\n",
    "#pragma omp parallel for reduction(+:sum)\n",
    "for (int i = 0; i < 10; i++) {\n",
    "    sum += i;\n",
    "}\n",
    "```\n",
    "\n",
    "These directives and constructs allow efficient parallel execution while maintaining data consistency. Next, we will explore advanced OpenMP features!"
   ]
  },
  {
   "cell_type": "code",
   "execution_count": 15,
   "id": "f60df66a-a9a3-4e0b-a7e1-4d6a54ab1f94",
   "metadata": {},
   "outputs": [
    {
     "name": "stdout",
     "output_type": "stream",
     "text": [
      "Writing reduction_directive.c\n"
     ]
    }
   ],
   "source": [
    "%%file reduction_directive.c\n",
    "#include <omp.h>\n",
    "#include <stdio.h>\n",
    "\n",
    "int main() {\n",
    "    int sum = 0;\n",
    "    #pragma omp parallel for reduction(+:sum)\n",
    "    for (int i = 0; i < 10; i++) {\n",
    "        sum += i;\n",
    "        printf(\"Thread %d, i = %d, sum = %d\\n\", omp_get_thread_num(), i, sum);\n",
    "    }\n",
    "    printf(\"Sum = %d\\n\", sum);\n",
    "}"
   ]
  },
  {
   "cell_type": "code",
   "execution_count": 16,
   "id": "388ea3c9-7488-44da-831a-3ef6b5cc463b",
   "metadata": {},
   "outputs": [
    {
     "name": "stdout",
     "output_type": "stream",
     "text": [
      "Thread 0, i = 0, sum = 0\n",
      "Thread 0, i = 1, sum = 1\n",
      "Thread 0, i = 2, sum = 3\n",
      "Thread 0, i = 3, sum = 6\n",
      "Thread 0, i = 4, sum = 10\n",
      "Thread 1, i = 5, sum = 5\n",
      "Thread 1, i = 6, sum = 11\n",
      "Thread 1, i = 7, sum = 18\n",
      "Thread 1, i = 8, sum = 26\n",
      "Thread 1, i = 9, sum = 35\n",
      "Sum = 45\n"
     ]
    }
   ],
   "source": [
    "!gcc -fopenmp reduction_directive.c -o reduction_directive\n",
    "!./reduction_directive"
   ]
  },
  {
   "cell_type": "markdown",
   "id": "2abdb4ce-0985-4112-bb6b-785ece94f237",
   "metadata": {},
   "source": [
    "### 4. Synchronization in OpenMP\n",
    "\n",
    "Synchronization is crucial in OpenMP to ensure that multiple threads can work together without data races or inconsistencies. OpenMP provides various synchronization constructs to manage access to shared resources.\n",
    "\n",
    "#### 4.1 Critical Sections\n",
    "The `#pragma omp critical` directive ensures that only one thread at a time executes the enclosed code block, preventing race conditions.\n",
    "\n",
    "Example:\n",
    "```c\n",
    "#include <omp.h>\n",
    "#include <stdio.h>\n",
    "\n",
    "int main() {\n",
    "    int sum = 0;\n",
    "    #pragma omp parallel for\n",
    "    for (int i = 0; i < 10; i++) {\n",
    "        #pragma omp critical\n",
    "        {\n",
    "            sum += i;\n",
    "            printf(\"Thread %d added %d, total sum = %d\\n\", omp_get_thread_num(), i, sum);\n",
    "        }\n",
    "    }\n",
    "    return 0;\n",
    "}\n",
    "```\n",
    "\n"
   ]
  },
  {
   "cell_type": "code",
   "execution_count": 17,
   "id": "5229a48a-fdd7-43c5-a3e4-4b20544f3fdc",
   "metadata": {},
   "outputs": [
    {
     "name": "stdout",
     "output_type": "stream",
     "text": [
      "Writing critical_section.c\n"
     ]
    }
   ],
   "source": [
    "%%file critical_section.c\n",
    "#include <omp.h>\n",
    "#include <stdio.h>\n",
    "\n",
    "int main() {\n",
    "    int sum = 0;\n",
    "    #pragma omp parallel for\n",
    "    for (int i = 0; i < 10; i++) {\n",
    "        #pragma omp critical\n",
    "        {\n",
    "            sum += i;\n",
    "            printf(\"Thread %d added %d, total sum = %d\\n\", omp_get_thread_num(), i, sum);\n",
    "        }\n",
    "    }\n",
    "    return 0;\n",
    "}"
   ]
  },
  {
   "cell_type": "code",
   "execution_count": 18,
   "id": "cf729a46-786f-4216-9287-381d42db31eb",
   "metadata": {},
   "outputs": [
    {
     "name": "stdout",
     "output_type": "stream",
     "text": [
      "Thread 0 added 0, total sum = 0\n",
      "Thread 0 added 1, total sum = 1\n",
      "Thread 0 added 2, total sum = 3\n",
      "Thread 0 added 3, total sum = 6\n",
      "Thread 0 added 4, total sum = 10\n",
      "Thread 1 added 5, total sum = 15\n",
      "Thread 1 added 6, total sum = 21\n",
      "Thread 1 added 7, total sum = 28\n",
      "Thread 1 added 8, total sum = 36\n",
      "Thread 1 added 9, total sum = 45\n"
     ]
    }
   ],
   "source": [
    "!gcc -fopenmp critical_section.c -o critical_section\n",
    "!./critical_section"
   ]
  },
  {
   "cell_type": "markdown",
   "id": "71320c23-450e-4ea1-a67e-4ae946e0a8f3",
   "metadata": {},
   "source": [
    "#### 4.2 Atomic Operations\n",
    "The `#pragma omp atomic` directive ensures that a specific memory operation is performed atomically, reducing overhead compared to critical sections.\n",
    "\n",
    "Example:\n",
    "```c\n",
    "int sum = 0;\n",
    "#pragma omp parallel for\n",
    "for (int i = 0; i < 10; i++) {\n",
    "    #pragma omp atomic\n",
    "    sum += i;\n",
    "}\n",
    "```\n",
    "\n"
   ]
  },
  {
   "cell_type": "code",
   "execution_count": 19,
   "id": "f4c41174-e2b0-4a17-8d75-a63c8365956f",
   "metadata": {},
   "outputs": [
    {
     "name": "stdout",
     "output_type": "stream",
     "text": [
      "Writing atomic_operation.c\n"
     ]
    }
   ],
   "source": [
    "%%file atomic_operation.c\n",
    "#include <omp.h>\n",
    "#include <stdio.h>\n",
    "\n",
    "int main() {\n",
    "    int sum = 0;\n",
    "    #pragma omp parallel for\n",
    "    for (int i = 0; i < 10; i++) {\n",
    "        #pragma omp atomic\n",
    "        sum += i;\n",
    "        printf(\"Thread %d added %d, total sum = %d\\n\", omp_get_thread_num(), i, sum);\n",
    "    }\n",
    "    return 0;\n",
    "}"
   ]
  },
  {
   "cell_type": "code",
   "execution_count": 20,
   "id": "34900f47-f9e6-48e1-9e07-2af4607d7cd3",
   "metadata": {},
   "outputs": [
    {
     "name": "stdout",
     "output_type": "stream",
     "text": [
      "Thread 0 added 0, total sum = 0\n",
      "Thread 0 added 1, total sum = 6\n",
      "Thread 0 added 2, total sum = 8\n",
      "Thread 0 added 3, total sum = 11\n",
      "Thread 0 added 4, total sum = 15\n",
      "Thread 1 added 5, total sum = 5\n",
      "Thread 1 added 6, total sum = 21\n",
      "Thread 1 added 7, total sum = 28\n",
      "Thread 1 added 8, total sum = 36\n",
      "Thread 1 added 9, total sum = 45\n"
     ]
    }
   ],
   "source": [
    "!gcc -fopenmp atomic_operation.c -o atomic_operation\n",
    "!./atomic_operation"
   ]
  },
  {
   "cell_type": "markdown",
   "id": "4912cadf-0e9b-41b3-a6ed-08f32c99be72",
   "metadata": {},
   "source": [
    "#### 4.3 Barriers\n",
    "The `#pragma omp barrier` directive forces all threads to wait at a synchronization point before proceeding.\n",
    "\n",
    "Example:\n",
    "```c\n",
    "#pragma omp parallel\n",
    "{\n",
    "    printf(\"Thread %d reached barrier.\\n\", omp_get_thread_num());\n",
    "    #pragma omp barrier\n",
    "    printf(\"Thread %d passed barrier.\\n\", omp_get_thread_num());\n",
    "}\n",
    "```\n",
    "\n"
   ]
  },
  {
   "cell_type": "code",
   "execution_count": 21,
   "id": "07049695-866d-40e8-a7a8-88f8359db20e",
   "metadata": {},
   "outputs": [
    {
     "name": "stdout",
     "output_type": "stream",
     "text": [
      "Writing barriers.c\n"
     ]
    }
   ],
   "source": [
    "%%file barriers.c\n",
    "#include <omp.h>\n",
    "#include <stdio.h>\n",
    "\n",
    "int main() {\n",
    "    #pragma omp parallel\n",
    "    {\n",
    "        printf(\"Thread %d reached barrier.\\n\", omp_get_thread_num());\n",
    "        #pragma omp barrier\n",
    "        printf(\"Thread %d passed barrier.\\n\", omp_get_thread_num());\n",
    "    }\n",
    "    return 0;\n",
    "}"
   ]
  },
  {
   "cell_type": "code",
   "execution_count": 22,
   "id": "72a95dbd-1918-4e96-a099-8954c85743b0",
   "metadata": {},
   "outputs": [
    {
     "name": "stdout",
     "output_type": "stream",
     "text": [
      "Thread 0 reached barrier.\n",
      "Thread 1 reached barrier.\n",
      "Thread 1 passed barrier.\n",
      "Thread 0 passed barrier.\n"
     ]
    }
   ],
   "source": [
    "!gcc -fopenmp barriers.c -o barriers\n",
    "!./barriers"
   ]
  },
  {
   "cell_type": "markdown",
   "id": "ce59f5e1-615f-4902-84bb-2c23e390cc58",
   "metadata": {},
   "source": [
    "#### 4.4 Ordered Execution\n",
    "The `#pragma omp ordered` directive ensures that specific sections of code are executed in order within a parallel loop.\n",
    "\n",
    "Example:\n",
    "```c\n",
    "#pragma omp parallel for ordered\n",
    "for (int i = 0; i < 10; i++) {\n",
    "    #pragma omp ordered\n",
    "    printf(\"Iteration %d executed by thread %d\\n\", i, omp_get_thread_num());\n",
    "}\n",
    "```\n",
    "\n"
   ]
  },
  {
   "cell_type": "code",
   "execution_count": 23,
   "id": "adea5e75-f7ed-424b-a366-ab300a0ee660",
   "metadata": {},
   "outputs": [
    {
     "name": "stdout",
     "output_type": "stream",
     "text": [
      "Writing ordered_execution.c\n"
     ]
    }
   ],
   "source": [
    "%%file ordered_execution.c\n",
    "#include <omp.h>\n",
    "#include <stdio.h>\n",
    "\n",
    "int main() {\n",
    "    #pragma omp parallel for ordered\n",
    "    for (int i = 0; i < 10; i++) {\n",
    "        #pragma omp ordered\n",
    "        printf(\"Iteration %d executed by thread %d\\n\", i, omp_get_thread_num());\n",
    "    }\n",
    "    return 0;\n",
    "}"
   ]
  },
  {
   "cell_type": "code",
   "execution_count": 24,
   "id": "3430752f-4403-4e19-86f7-d3ef01461418",
   "metadata": {},
   "outputs": [
    {
     "name": "stdout",
     "output_type": "stream",
     "text": [
      "Iteration 0 executed by thread 0\n",
      "Iteration 1 executed by thread 0\n",
      "Iteration 2 executed by thread 0\n",
      "Iteration 3 executed by thread 0\n",
      "Iteration 4 executed by thread 0\n",
      "Iteration 5 executed by thread 1\n",
      "Iteration 6 executed by thread 1\n",
      "Iteration 7 executed by thread 1\n",
      "Iteration 8 executed by thread 1\n",
      "Iteration 9 executed by thread 1\n"
     ]
    }
   ],
   "source": [
    "!gcc -fopenmp ordered_execution.c -o ordered_execution\n",
    "!./ordered_execution"
   ]
  },
  {
   "cell_type": "markdown",
   "id": "01897feb-4c73-4ce0-8156-f3ca9d659bbe",
   "metadata": {},
   "source": [
    "#### 4.5 Locks\n",
    "OpenMP provides explicit locking mechanisms for fine-grained control using `omp_lock_t`.\n",
    "\n",
    "Example:\n",
    "```c\n",
    "omp_lock_t lock;\n",
    "omp_init_lock(&lock);\n",
    "#pragma omp parallel\n",
    "{\n",
    "    omp_set_lock(&lock);\n",
    "    printf(\"Thread %d has acquired the lock.\\n\", omp_get_thread_num());\n",
    "    omp_unset_lock(&lock);\n",
    "}\n",
    "omp_destroy_lock(&lock);\n",
    "```\n",
    "\n",
    "These synchronization techniques ensure safe and efficient parallel execution in OpenMP programs. Next, we will explore **Work Sharing Constructs** in OpenMP!\n"
   ]
  },
  {
   "cell_type": "code",
   "execution_count": 25,
   "id": "daddce15-2dad-4ca6-bb83-a7dc06202e66",
   "metadata": {},
   "outputs": [
    {
     "name": "stdout",
     "output_type": "stream",
     "text": [
      "Writing locks.c\n"
     ]
    }
   ],
   "source": [
    "%%file locks.c\n",
    "#include <omp.h>\n",
    "#include <stdio.h>\n",
    "\n",
    "int main() {\n",
    "    omp_lock_t lock;\n",
    "    omp_init_lock(&lock);\n",
    "    #pragma omp parallel\n",
    "    {\n",
    "        omp_set_lock(&lock);\n",
    "        printf(\"Thread %d has acquired the lock.\\n\", omp_get_thread_num());\n",
    "        omp_unset_lock(&lock);\n",
    "    }\n",
    "    omp_destroy_lock(&lock);\n",
    "    return 0;\n",
    "}"
   ]
  },
  {
   "cell_type": "code",
   "execution_count": 26,
   "id": "51347e96-80e5-494a-9ced-2cdb7aeb0da0",
   "metadata": {},
   "outputs": [
    {
     "name": "stdout",
     "output_type": "stream",
     "text": [
      "Thread 0 has acquired the lock.\n",
      "Thread 1 has acquired the lock.\n"
     ]
    }
   ],
   "source": [
    "!gcc -fopenmp locks.c -o locks\n",
    "!./locks"
   ]
  },
  {
   "cell_type": "markdown",
   "id": "7ef081ce-ca8c-4ffe-972f-8d4ab40a9038",
   "metadata": {},
   "source": [
    "### 5. Work Sharing Constructs\n",
    "\n",
    "Work sharing constructs in OpenMP allow efficient distribution of tasks among multiple threads to maximize parallel performance. These constructs include loop parallelization, sections, single-thread execution, and task parallelism.\n",
    "\n",
    "#### 5.1 `#pragma omp for`\n",
    "The `#pragma omp for` directive distributes loop iterations among multiple threads.\n",
    "\n",
    "Example:\n",
    "```c\n",
    "#include <omp.h>\n",
    "#include <stdio.h>\n",
    "\n",
    "int main() {\n",
    "    #pragma omp parallel for\n",
    "    for (int i = 0; i < 10; i++) {\n",
    "        printf(\"Thread %d processing iteration %d\\n\", omp_get_thread_num(), i);\n",
    "    }\n",
    "    return 0;\n",
    "}\n",
    "```"
   ]
  },
  {
   "cell_type": "code",
   "execution_count": 27,
   "id": "61ff2211-0dbd-4181-9fb8-ac773fa03620",
   "metadata": {},
   "outputs": [
    {
     "name": "stdout",
     "output_type": "stream",
     "text": [
      "Writing omp_for.c\n"
     ]
    }
   ],
   "source": [
    "%%file omp_for.c\n",
    "#include <omp.h>\n",
    "#include <stdio.h>\n",
    "\n",
    "int main() {\n",
    "    #pragma omp parallel for\n",
    "    for (int i = 0; i < 10; i++) {\n",
    "        printf(\"Thread %d processing iteration %d\\n\", omp_get_thread_num(), i);\n",
    "    }\n",
    "    return 0;\n",
    "}"
   ]
  },
  {
   "cell_type": "code",
   "execution_count": 28,
   "id": "f5088e0c-e459-4bf5-92f8-c26c1c97bd08",
   "metadata": {},
   "outputs": [
    {
     "name": "stdout",
     "output_type": "stream",
     "text": [
      "Thread 0 processing iteration 0\n",
      "Thread 0 processing iteration 1\n",
      "Thread 0 processing iteration 2\n",
      "Thread 0 processing iteration 3\n",
      "Thread 0 processing iteration 4\n",
      "Thread 1 processing iteration 5\n",
      "Thread 1 processing iteration 6\n",
      "Thread 1 processing iteration 7\n",
      "Thread 1 processing iteration 8\n",
      "Thread 1 processing iteration 9\n"
     ]
    }
   ],
   "source": [
    "!gcc -fopenmp omp_for.c -o omp_for\n",
    "!./omp_for"
   ]
  },
  {
   "cell_type": "markdown",
   "id": "941331bd-686a-4918-a91e-12db9ba1038b",
   "metadata": {},
   "source": [
    "#### 5.2 `#pragma omp sections`\n",
    "The `#pragma omp sections` directive allows independent code blocks to be executed by different threads.\n",
    "\n",
    "Example:\n",
    "```c\n",
    "#pragma omp parallel\n",
    "{\n",
    "    #pragma omp sections\n",
    "    {\n",
    "        #pragma omp section\n",
    "        printf(\"Thread %d executing section A\\n\", omp_get_thread_num());\n",
    "\n",
    "        #pragma omp section\n",
    "        printf(\"Thread %d executing section B\\n\", omp_get_thread_num());\n",
    "    }\n",
    "}\n",
    "```"
   ]
  },
  {
   "cell_type": "code",
   "execution_count": 29,
   "id": "2f3a73bd-f8dd-4ceb-a5f5-4f85c9ebd833",
   "metadata": {},
   "outputs": [
    {
     "name": "stdout",
     "output_type": "stream",
     "text": [
      "Writing omp_sections.c\n"
     ]
    }
   ],
   "source": [
    "%%file omp_sections.c\n",
    "#include <omp.h>\n",
    "#include <stdio.h>\n",
    "\n",
    "int main() {\n",
    "    #pragma omp parallel\n",
    "    {\n",
    "        #pragma omp sections\n",
    "        {\n",
    "            #pragma omp section\n",
    "            printf(\"Thread %d executing section A\\n\", omp_get_thread_num());\n",
    "\n",
    "            #pragma omp section\n",
    "            printf(\"Thread %d executing section B\\n\", omp_get_thread_num());\n",
    "        }\n",
    "    }\n",
    "}"
   ]
  },
  {
   "cell_type": "code",
   "execution_count": 30,
   "id": "36859fc6-16bf-4cb8-8d68-580cac2faa75",
   "metadata": {},
   "outputs": [
    {
     "name": "stdout",
     "output_type": "stream",
     "text": [
      "Thread 0 executing section A\n",
      "Thread 1 executing section B\n"
     ]
    }
   ],
   "source": [
    "!gcc -fopenmp omp_sections.c -o omp_sections\n",
    "!./omp_sections"
   ]
  },
  {
   "cell_type": "markdown",
   "id": "6a43aa70-cb4d-4316-816a-ac87de6076cd",
   "metadata": {},
   "source": [
    "#### 5.3 `#pragma omp single`\n",
    "The `#pragma omp single` directive ensures that only one thread executes a block of code, while other threads wait.\n",
    "\n",
    "Example:\n",
    "```c\n",
    "#pragma omp parallel\n",
    "{\n",
    "    #pragma omp single\n",
    "    {\n",
    "        printf(\"Thread %d is executing the single block.\\n\", omp_get_thread_num());\n",
    "    }\n",
    "}\n",
    "```"
   ]
  },
  {
   "cell_type": "code",
   "execution_count": 31,
   "id": "1682a39c-5942-4db0-abc6-a9163fd01bd5",
   "metadata": {},
   "outputs": [
    {
     "name": "stdout",
     "output_type": "stream",
     "text": [
      "Writing omp_single.c\n"
     ]
    }
   ],
   "source": [
    "%%file omp_single.c\n",
    "#include <omp.h>\n",
    "#include <stdio.h>\n",
    "\n",
    "int main() {\n",
    "    #pragma omp parallel\n",
    "    {\n",
    "        #pragma omp single\n",
    "        {\n",
    "            printf(\"Thread %d is executing the single block.\\n\", omp_get_thread_num());\n",
    "        }\n",
    "    }\n",
    "}"
   ]
  },
  {
   "cell_type": "code",
   "execution_count": 32,
   "id": "5c2382cf-2f82-4b84-b8e5-b0121157553b",
   "metadata": {},
   "outputs": [
    {
     "name": "stdout",
     "output_type": "stream",
     "text": [
      "Thread 0 is executing the single block.\n"
     ]
    }
   ],
   "source": [
    "!gcc -fopenmp omp_single.c -o omp_single\n",
    "!./omp_single"
   ]
  },
  {
   "cell_type": "markdown",
   "id": "d8db4bef-c7df-4c68-90b3-e6abef64ffb5",
   "metadata": {},
   "source": [
    "#### 5.4 `#pragma omp master`\n",
    "The `#pragma omp master` directive ensures that only the master thread (thread 0) executes a block of code without synchronization overhead.\n",
    "\n",
    "Example:\n",
    "```c\n",
    "#pragma omp parallel\n",
    "{\n",
    "    #pragma omp master\n",
    "    {\n",
    "        printf(\"Master thread executing this block.\\n\");\n",
    "    }\n",
    "}\n",
    "```"
   ]
  },
  {
   "cell_type": "code",
   "execution_count": 33,
   "id": "f3e7ff1d-6eb5-4a14-a4c3-984240da4f50",
   "metadata": {},
   "outputs": [
    {
     "name": "stdout",
     "output_type": "stream",
     "text": [
      "Writing omp_master.c\n"
     ]
    }
   ],
   "source": [
    "%%file omp_master.c\n",
    "#include <omp.h>\n",
    "#include <stdio.h>\n",
    "\n",
    "int main() {\n",
    "    #pragma omp parallel\n",
    "    {\n",
    "        #pragma omp master\n",
    "        {\n",
    "            printf(\"Master thread executing this block.\\n\");\n",
    "        }\n",
    "    }\n",
    "}"
   ]
  },
  {
   "cell_type": "code",
   "execution_count": 34,
   "id": "85b0a069-ceae-4995-b7dd-361fc6bd17cb",
   "metadata": {},
   "outputs": [
    {
     "name": "stdout",
     "output_type": "stream",
     "text": [
      "Master thread executing this block.\n"
     ]
    }
   ],
   "source": [
    "!gcc -fopenmp omp_master.c -o omp_master\n",
    "!./omp_master"
   ]
  },
  {
   "cell_type": "markdown",
   "id": "5bc2143a-f9ee-4eb8-ba86-b3e966697670",
   "metadata": {},
   "source": [
    "#### 5.5 `#pragma omp task`\n",
    "The `#pragma omp task` directive allows dynamic task creation where each task is assigned to an available thread.\n",
    "\n",
    "Example:\n",
    "```c\n",
    "#pragma omp parallel\n",
    "{\n",
    "    #pragma omp single\n",
    "    {\n",
    "        #pragma omp task\n",
    "        printf(\"Thread %d executing task 1\\n\", omp_get_thread_num());\n",
    "        \n",
    "        #pragma omp task\n",
    "        printf(\"Thread %d executing task 2\\n\", omp_get_thread_num());\n",
    "    }\n",
    "}\n",
    "```\n",
    "\n",
    "These work-sharing constructs enable efficient parallelism by distributing computation among threads in a controlled manner. Next, we will explore **Data Sharing in OpenMP**!\n"
   ]
  },
  {
   "cell_type": "code",
   "execution_count": 35,
   "id": "f188ab76-3626-40fb-b9ed-d9b77ae8d0d7",
   "metadata": {},
   "outputs": [
    {
     "name": "stdout",
     "output_type": "stream",
     "text": [
      "Writing omp_task.c\n"
     ]
    }
   ],
   "source": [
    "%%file omp_task.c\n",
    "#include <omp.h>\n",
    "#include <stdio.h>\n",
    "\n",
    "int main() {\n",
    "    #pragma omp parallel\n",
    "    {\n",
    "        #pragma omp single\n",
    "        {\n",
    "            #pragma omp task\n",
    "            printf(\"Thread %d executing task 1\\n\", omp_get_thread_num());\n",
    "        \n",
    "            #pragma omp task\n",
    "            printf(\"Thread %d executing task 2\\n\", omp_get_thread_num());\n",
    "        }\n",
    "    }\n",
    "}"
   ]
  },
  {
   "cell_type": "code",
   "execution_count": 36,
   "id": "baf6c120-7f7c-40f8-ba0e-f7bcdc708252",
   "metadata": {},
   "outputs": [
    {
     "name": "stdout",
     "output_type": "stream",
     "text": [
      "Thread 1 executing task 1\n",
      "Thread 0 executing task 2\n"
     ]
    }
   ],
   "source": [
    "!gcc -fopenmp omp_task.c -o omp_task\n",
    "!./omp_task"
   ]
  },
  {
   "cell_type": "markdown",
   "id": "276c12fc-a556-4eb8-8764-8b2fb2c0fbc7",
   "metadata": {},
   "source": [
    "### 6. Hands-on Exercises for OpenMP\n",
    "\n",
    "To reinforce the concepts learned in OpenMP, we will go through several hands-on exercises that demonstrate different parallelization techniques. These exercises will help develop practical skills in writing and optimizing OpenMP programs.\n",
    "\n",
    "#### Exercise 1: Parallelizing a Simple Loop\n",
    "**Task:** Modify the following sequential loop to run in parallel using OpenMP.\n",
    "\n",
    "```c\n",
    "#include <stdio.h>\n",
    "#include <omp.h>\n",
    "\n",
    "int main() {\n",
    "    int i;\n",
    "    #pragma omp parallel for\n",
    "    for (i = 0; i < 10; i++) {\n",
    "        printf(\"Thread %d processing iteration %d\\n\", omp_get_thread_num(), i);\n",
    "    }\n",
    "    return 0;\n",
    "}\n",
    "```\n"
   ]
  },
  {
   "cell_type": "code",
   "execution_count": 37,
   "id": "12c2872b-dc24-43a6-b4b7-13e3f93978fe",
   "metadata": {},
   "outputs": [
    {
     "name": "stdout",
     "output_type": "stream",
     "text": [
      "Writing exercise_1.c\n"
     ]
    }
   ],
   "source": [
    "%%file exercise_1.c\n",
    "#include <stdio.h>\n",
    "#include <omp.h>\n",
    "\n",
    "int main() {\n",
    "    int i;\n",
    "    #pragma omp parallel for\n",
    "    for (i = 0; i < 10; i++) {\n",
    "        printf(\"Thread %d processing iteration %d\\n\", omp_get_thread_num(), i);\n",
    "    }\n",
    "    return 0;\n",
    "}"
   ]
  },
  {
   "cell_type": "code",
   "execution_count": 38,
   "id": "63e71dbc-5b85-472a-a1f0-c5ff3792e608",
   "metadata": {},
   "outputs": [
    {
     "name": "stdout",
     "output_type": "stream",
     "text": [
      "Thread 0 processing iteration 0\n",
      "Thread 0 processing iteration 1\n",
      "Thread 0 processing iteration 2\n",
      "Thread 0 processing iteration 3\n",
      "Thread 0 processing iteration 4\n",
      "Thread 1 processing iteration 5\n",
      "Thread 1 processing iteration 6\n",
      "Thread 1 processing iteration 7\n",
      "Thread 1 processing iteration 8\n",
      "Thread 1 processing iteration 9\n"
     ]
    }
   ],
   "source": [
    "!gcc -fopenmp exercise_1.c -o exercise_1\n",
    "!./exercise_1"
   ]
  },
  {
   "cell_type": "markdown",
   "id": "c5713178-2b3d-45c8-aa44-732f9c38f8ed",
   "metadata": {},
   "source": [
    "#### Exercise 2: Computing the Sum of an Array\n",
    "**Task:** Use OpenMP to parallelize an array summation.\n",
    "\n",
    "```c\n",
    "#include <stdio.h>\n",
    "#include <omp.h>\n",
    "\n",
    "#define N 1000\n",
    "\n",
    "int main() {\n",
    "    int i, sum = 0;\n",
    "    int arr[N];\n",
    "    for (i = 0; i < N; i++) arr[i] = i;\n",
    "\n",
    "    #pragma omp parallel for reduction(+:sum)\n",
    "    for (i = 0; i < N; i++) {\n",
    "        sum += arr[i];\n",
    "    }\n",
    "    \n",
    "    printf(\"Total sum: %d\\n\", sum);\n",
    "    return 0;\n",
    "}\n",
    "```"
   ]
  },
  {
   "cell_type": "code",
   "execution_count": 39,
   "id": "7c5a53ac-4ae3-48e3-a136-2ddd0a295fa1",
   "metadata": {},
   "outputs": [
    {
     "name": "stdout",
     "output_type": "stream",
     "text": [
      "Writing exercise_2.c\n"
     ]
    }
   ],
   "source": [
    "%%file exercise_2.c\n",
    "#include <stdio.h>\n",
    "#include <omp.h>\n",
    "\n",
    "#define N 1000\n",
    "\n",
    "int main() {\n",
    "    int i, sum = 0;\n",
    "    int arr[N];\n",
    "    for (i = 0; i < N; i++) arr[i] = i;\n",
    "\n",
    "    #pragma omp parallel for reduction(+:sum)\n",
    "    for (i = 0; i < N; i++) {\n",
    "        sum += arr[i];\n",
    "    }\n",
    "    \n",
    "    printf(\"Total sum: %d\\n\", sum);\n",
    "    return 0;\n",
    "}"
   ]
  },
  {
   "cell_type": "code",
   "execution_count": 40,
   "id": "c894b6fe-457b-46cf-bd38-e976468ad866",
   "metadata": {},
   "outputs": [
    {
     "name": "stdout",
     "output_type": "stream",
     "text": [
      "Total sum: 499500\n"
     ]
    }
   ],
   "source": [
    "!gcc -fopenmp exercise_2.c -o exercise_2\n",
    "!./exercise_2"
   ]
  },
  {
   "cell_type": "markdown",
   "id": "4d25bda8-06ac-47f8-ae51-0e9c0edf5271",
   "metadata": {},
   "source": [
    "#### Exercise 3: Parallelizing Matrix Multiplication\n",
    "**Task:** Modify the following matrix multiplication code to run in parallel using OpenMP.\n",
    "\n",
    "```c\n",
    "#include <stdio.h>\n",
    "#include <omp.h>\n",
    "\n",
    "#define N 500\n",
    "\n",
    "int main() {\n",
    "    int i, j, k;\n",
    "    double A[N][N], B[N][N], C[N][N];\n",
    "\n",
    "    // Initialize matrices\n",
    "    for (i = 0; i < N; i++)\n",
    "        for (j = 0; j < N; j++) {\n",
    "            A[i][j] = i + j;\n",
    "            B[i][j] = i - j;\n",
    "            C[i][j] = 0;\n",
    "        }\n",
    "\n",
    "    #pragma omp parallel for private(i, j, k)\n",
    "    for (i = 0; i < N; i++)\n",
    "        for (j = 0; j < N; j++)\n",
    "            for (k = 0; k < N; k++)\n",
    "                C[i][j] += A[i][k] * B[k][j];\n",
    "\n",
    "    printf(\"Matrix multiplication completed.\\n\");\n",
    "    return 0;\n",
    "}\n",
    "```"
   ]
  },
  {
   "cell_type": "code",
   "execution_count": 41,
   "id": "3e94a65b-9522-4a56-8946-c10ab58206ce",
   "metadata": {},
   "outputs": [
    {
     "name": "stdout",
     "output_type": "stream",
     "text": [
      "Writing exercise_3.c\n"
     ]
    }
   ],
   "source": [
    "%%file exercise_3.c\n",
    "#include <stdio.h>\n",
    "#include <omp.h>\n",
    "\n",
    "#define N 500\n",
    "\n",
    "int main() {\n",
    "    int i, j, k;\n",
    "    double A[N][N], B[N][N], C[N][N];\n",
    "\n",
    "    // Initialize matrices\n",
    "    for (i = 0; i < N; i++)\n",
    "        for (j = 0; j < N; j++) {\n",
    "            A[i][j] = i + j;\n",
    "            B[i][j] = i - j;\n",
    "            C[i][j] = 0;\n",
    "        }\n",
    "\n",
    "    #pragma omp parallel for private(i, j, k)\n",
    "    for (i = 0; i < N; i++)\n",
    "        for (j = 0; j < N; j++)\n",
    "            for (k = 0; k < N; k++)\n",
    "                C[i][j] += A[i][k] * B[k][j];\n",
    "\n",
    "    printf(\"Matrix multiplication completed.\\n\");\n",
    "    return 0;\n",
    "}"
   ]
  },
  {
   "cell_type": "code",
   "execution_count": 42,
   "id": "7900118a-043b-42c3-babb-134a17f13abf",
   "metadata": {},
   "outputs": [
    {
     "name": "stdout",
     "output_type": "stream",
     "text": [
      "Matrix multiplication completed.\n"
     ]
    }
   ],
   "source": [
    "!gcc -fopenmp exercise_3.c -o exercise_3\n",
    "!./exercise_3"
   ]
  },
  {
   "cell_type": "markdown",
   "id": "8f194e02-2553-4a56-9711-cd482d9b7d5f",
   "metadata": {},
   "source": [
    "#### Exercise 4: Implementing a Parallel Reduction for Finding Maximum\n",
    "**Task:** Modify the following code to find the maximum value in an array using OpenMP’s reduction clause.\n",
    "\n",
    "```c\n",
    "#include <stdio.h>\n",
    "#include <omp.h>\n",
    "\n",
    "#define N 1000\n",
    "\n",
    "int main() {\n",
    "    int i, max_val = 0;\n",
    "    int arr[N];\n",
    "    for (i = 0; i < N; i++) arr[i] = i;\n",
    "\n",
    "    #pragma omp parallel for reduction(max:max_val)\n",
    "    for (i = 0; i < N; i++) {\n",
    "        if (arr[i] > max_val)\n",
    "            max_val = arr[i];\n",
    "    }\n",
    "    \n",
    "    printf(\"Maximum value: %d\\n\", max_val);\n",
    "    return 0;\n",
    "}\n",
    "```\n",
    "\n",
    "These hands-on exercises will help in developing OpenMP programming skills. Next, we will explore **MPI Basics**!"
   ]
  },
  {
   "cell_type": "code",
   "execution_count": 43,
   "id": "e0c92074-2a54-4483-a3b9-75bff4aea415",
   "metadata": {},
   "outputs": [
    {
     "name": "stdout",
     "output_type": "stream",
     "text": [
      "Writing exercise_4.c\n"
     ]
    }
   ],
   "source": [
    "%%file exercise_4.c\n",
    "#include <stdio.h>\n",
    "#include <omp.h>\n",
    "\n",
    "#define N 1000\n",
    "\n",
    "int main() {\n",
    "    int i, max_val = 0;\n",
    "    int arr[N];\n",
    "    for (i = 0; i < N; i++) arr[i] = i;\n",
    "\n",
    "    #pragma omp parallel for reduction(max:max_val)\n",
    "    for (i = 0; i < N; i++) {\n",
    "        if (arr[i] > max_val)\n",
    "            max_val = arr[i];\n",
    "    }\n",
    "    \n",
    "    printf(\"Maximum value: %d\\n\", max_val);\n",
    "    return 0;\n",
    "}"
   ]
  },
  {
   "cell_type": "code",
   "execution_count": 44,
   "id": "e825d5d3-ab3b-4e2d-b7d4-9f7198a3da4f",
   "metadata": {},
   "outputs": [
    {
     "name": "stdout",
     "output_type": "stream",
     "text": [
      "Maximum value: 999\n"
     ]
    }
   ],
   "source": [
    "!gcc -fopenmp exercise_4.c -o exercise_4\n",
    "!./exercise_4"
   ]
  }
 ],
 "metadata": {
  "kernelspec": {
   "display_name": "Python 3 (ipykernel)",
   "language": "python",
   "name": "python3"
  },
  "language_info": {
   "codemirror_mode": {
    "name": "ipython",
    "version": 3
   },
   "file_extension": ".py",
   "mimetype": "text/x-python",
   "name": "python",
   "nbconvert_exporter": "python",
   "pygments_lexer": "ipython3",
   "version": "3.12.3"
  }
 },
 "nbformat": 4,
 "nbformat_minor": 5
}
