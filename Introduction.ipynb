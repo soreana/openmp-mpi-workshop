{
 "cells": [
  {
   "cell_type": "markdown",
   "id": "29ce8dca-b3ee-4bbb-a17a-cdd922c6ba47",
   "metadata": {},
   "source": [
    "### OpenMP and MPI Interactive Tutorial\n",
    "\n",
    "## 1. Introduction\n",
    "\n",
    "### Overview of Parallel Computing\n",
    "Parallel computing is a type of computation in which many calculations or processes are carried out simultaneously. Large problems can often be divided into smaller ones, which can then be solved concurrently. This is particularly useful in high-performance computing (HPC), scientific simulations, and large-scale data processing.\n",
    "\n",
    "There are two primary models for parallel programming:\n",
    "1. **Shared Memory Model**: Multiple threads or processes share the same memory space.\n",
    "2. **Distributed Memory Model**: Each process has its own local memory and communicates with others via message passing.\n",
    "\n",
    "### Importance of OpenMP and MPI\n",
    "OpenMP and MPI are two widely used parallel programming frameworks:\n",
    "- **OpenMP (Open Multi-Processing)** is a shared-memory parallel programming model that allows parallelization of code using compiler directives.\n",
    "- **MPI (Message Passing Interface)** is a distributed-memory parallel programming model where multiple processes communicate by passing messages.\n",
    "\n",
    "| Feature       | OpenMP  | MPI  |\n",
    "|--------------|--------|------|\n",
    "| Memory Model | Shared | Distributed |\n",
    "| Communication | Implicit (shared memory) | Explicit (message passing) |\n",
    "| Ease of Use  | Easier | More complex |\n",
    "| Scalability  | Limited to a single node | Scales across multiple nodes |\n",
    "\n",
    "### When to Use OpenMP vs MPI\n",
    "- **Use OpenMP** when working on a shared-memory system, where all threads can access the same memory.\n",
    "- **Use MPI** when working on a distributed system, where processes need to exchange information over a network.\n",
    "- **Hybrid Approach (OpenMP + MPI)**: For large-scale applications, you can use MPI between nodes and OpenMP within a node.\n",
    "\n",
    "### Installation Requirements\n",
    "To run OpenMP and MPI programs, you need the following:\n",
    "#### OpenMP:\n",
    "- A compiler that supports OpenMP (GCC, Clang, Intel, or MSVC)\n",
    "- Example: Install GCC with OpenMP support:\n",
    "  ```bash\n",
    "  sudo apt install gcc\n",
    "  ```\n",
    "- Compile OpenMP programs:\n",
    "  ```bash\n",
    "  gcc -fopenmp program.c -o program\n",
    "  ```\n",
    "\n",
    "#### MPI:\n",
    "- An MPI implementation such as MPICH or OpenMPI\n",
    "- Example: Install OpenMPI:\n",
    "  ```bash\n",
    "  sudo apt install openmpi-bin openmpi-common libopenmpi-dev\n",
    "  ```\n",
    "- Compile and run an MPI program:\n",
    "  ```bash\n",
    "  mpicc program.c -o program\n",
    "  mpirun -np 4 ./program\n",
    "  ```\n",
    "\n",
    "This tutorial will guide you through the basics of OpenMP and MPI, covering key concepts, programming models, and hands-on examples. Let's get started!\n"
   ]
  },
  {
   "cell_type": "code",
   "execution_count": null,
   "id": "6ae30768-bcac-43e2-be16-003416227d1c",
   "metadata": {},
   "outputs": [],
   "source": []
  }
 ],
 "metadata": {
  "kernelspec": {
   "display_name": "Python 3 (ipykernel)",
   "language": "python",
   "name": "python3"
  },
  "language_info": {
   "codemirror_mode": {
    "name": "ipython",
    "version": 3
   },
   "file_extension": ".py",
   "mimetype": "text/x-python",
   "name": "python",
   "nbconvert_exporter": "python",
   "pygments_lexer": "ipython3",
   "version": "3.12.3"
  }
 },
 "nbformat": 4,
 "nbformat_minor": 5
}
